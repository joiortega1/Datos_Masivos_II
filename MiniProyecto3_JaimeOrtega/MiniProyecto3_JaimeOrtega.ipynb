{
 "cells": [
  {
   "cell_type": "markdown",
   "metadata": {},
   "source": [
    "# Mini Proyecto 3\n",
    "## Page Rank\n",
    "- Ortega Ibarra Jaime Jesus\n",
    "\n",
    "Usando el algoritmo de Page Rank y la base de datos que se te fue asignada, calcula la relevancia de los nodos a partir de la relevancia de los enlaces entrantes."
   ]
  },
  {
   "cell_type": "markdown",
   "metadata": {},
   "source": [
    "La red se recopiló rastreando el sitio web de Amazon. Se basa en la función Clientes que compraron este artículo también compraron del sitio web de Amazon. Si un producto $i$ se compra con frecuencia junto con el producto $j$ , la gráfica contiene un borde dirigido de $i$ a $j$ ."
   ]
  },
  {
   "cell_type": "markdown",
   "metadata": {},
   "source": [
    "## Librerías"
   ]
  },
  {
   "cell_type": "code",
   "execution_count": 1,
   "metadata": {},
   "outputs": [],
   "source": [
    "import pandas as pd\n",
    "import numpy as np\n",
    "import networkx as nx\n",
    "from scipy.sparse import csr_matrix\n",
    "from scipy import sparse\n",
    "import matplotlib.pyplot as plt"
   ]
  },
  {
   "cell_type": "markdown",
   "metadata": {},
   "source": [
    "## Datos"
   ]
  },
  {
   "cell_type": "markdown",
   "metadata": {},
   "source": [
    "Mediante la ayuda de $Pandas$ realizamos la lectura de nuestros datos para poder explorar, debido a la estructura de los datos utilizamos $sep=t$ y nos brincamos las primeras filas."
   ]
  },
  {
   "cell_type": "code",
   "execution_count": 2,
   "metadata": {},
   "outputs": [
    {
     "data": {
      "text/html": [
       "<div>\n",
       "<style scoped>\n",
       "    .dataframe tbody tr th:only-of-type {\n",
       "        vertical-align: middle;\n",
       "    }\n",
       "\n",
       "    .dataframe tbody tr th {\n",
       "        vertical-align: top;\n",
       "    }\n",
       "\n",
       "    .dataframe thead th {\n",
       "        text-align: right;\n",
       "    }\n",
       "</style>\n",
       "<table border=\"1\" class=\"dataframe\">\n",
       "  <thead>\n",
       "    <tr style=\"text-align: right;\">\n",
       "      <th></th>\n",
       "      <th># FromNodeId</th>\n",
       "      <th>ToNodeId</th>\n",
       "    </tr>\n",
       "  </thead>\n",
       "  <tbody>\n",
       "    <tr>\n",
       "      <th>0</th>\n",
       "      <td>0</td>\n",
       "      <td>1</td>\n",
       "    </tr>\n",
       "    <tr>\n",
       "      <th>1</th>\n",
       "      <td>0</td>\n",
       "      <td>2</td>\n",
       "    </tr>\n",
       "    <tr>\n",
       "      <th>2</th>\n",
       "      <td>0</td>\n",
       "      <td>3</td>\n",
       "    </tr>\n",
       "    <tr>\n",
       "      <th>3</th>\n",
       "      <td>0</td>\n",
       "      <td>4</td>\n",
       "    </tr>\n",
       "    <tr>\n",
       "      <th>4</th>\n",
       "      <td>0</td>\n",
       "      <td>5</td>\n",
       "    </tr>\n",
       "  </tbody>\n",
       "</table>\n",
       "</div>"
      ],
      "text/plain": [
       "   # FromNodeId  ToNodeId\n",
       "0             0         1\n",
       "1             0         2\n",
       "2             0         3\n",
       "3             0         4\n",
       "4             0         5"
      ]
     },
     "execution_count": 2,
     "metadata": {},
     "output_type": "execute_result"
    }
   ],
   "source": [
    "data = pd.read_csv('amazon0302.txt', sep=\"\\t\", skiprows=3)\n",
    "data.head()"
   ]
  },
  {
   "cell_type": "markdown",
   "metadata": {},
   "source": [
    "Como exploración calculamos el total de los datos, pues eso nos dará el número total de aristas."
   ]
  },
  {
   "cell_type": "code",
   "execution_count": 3,
   "metadata": {},
   "outputs": [
    {
     "data": {
      "text/plain": [
       "1234877"
      ]
     },
     "execution_count": 3,
     "metadata": {},
     "output_type": "execute_result"
    }
   ],
   "source": [
    "len(data)"
   ]
  },
  {
   "cell_type": "code",
   "execution_count": 4,
   "metadata": {},
   "outputs": [
    {
     "data": {
      "text/plain": [
       "257570"
      ]
     },
     "execution_count": 4,
     "metadata": {},
     "output_type": "execute_result"
    }
   ],
   "source": [
    "len(set(data['# FromNodeId']))"
   ]
  },
  {
   "cell_type": "code",
   "execution_count": 5,
   "metadata": {},
   "outputs": [
    {
     "data": {
      "text/plain": [
       "262111"
      ]
     },
     "execution_count": 5,
     "metadata": {},
     "output_type": "execute_result"
    }
   ],
   "source": [
    "len(set(data['ToNodeId']))"
   ]
  },
  {
   "cell_type": "code",
   "execution_count": 6,
   "metadata": {},
   "outputs": [
    {
     "data": {
      "text/plain": [
       "4541"
      ]
     },
     "execution_count": 6,
     "metadata": {},
     "output_type": "execute_result"
    }
   ],
   "source": [
    "len(set(data['ToNodeId'])) - len(set(data['# FromNodeId']))"
   ]
  },
  {
   "cell_type": "markdown",
   "metadata": {},
   "source": [
    "Visualizamos los productos mas redirigidos por otros y aquellos que redirigen a otros"
   ]
  },
  {
   "cell_type": "code",
   "execution_count": 7,
   "metadata": {},
   "outputs": [
    {
     "data": {
      "text/plain": [
       "14949    420\n",
       "4429     404\n",
       "33       361\n",
       "10519    334\n",
       "12771    330\n",
       "8        293\n",
       "297      280\n",
       "481      275\n",
       "5737     272\n",
       "9106     227\n",
       "Name: ToNodeId, dtype: int64"
      ]
     },
     "execution_count": 7,
     "metadata": {},
     "output_type": "execute_result"
    }
   ],
   "source": [
    "freq = data['ToNodeId'].value_counts()\n",
    "freq[0:10]"
   ]
  },
  {
   "cell_type": "code",
   "execution_count": 8,
   "metadata": {},
   "outputs": [],
   "source": [
    "nodes_frec = ['14949', '4429', '33', '10519', '12771', '8', '297', '481', '5737', '9106']\n",
    "frec = [420, 404, 361, 334, 330, 293, 280, 275, 272, 227]\n",
    "color = ['indianred','darkcyan','steelblue','slategray',\n",
    "        'skyblue', 'silver', 'teal', 'salmon',\n",
    "        'royalblue', 'tan']"
   ]
  },
  {
   "cell_type": "markdown",
   "metadata": {},
   "source": [
    "Visualizamos mediante una gráfica de barras."
   ]
  },
  {
   "cell_type": "code",
   "execution_count": 9,
   "metadata": {},
   "outputs": [
    {
     "data": {
      "image/png": "[encoded data removed]",
      "text/plain": [
       "<Figure size 720x360 with 1 Axes>"
      ]
     },
     "metadata": {
      "needs_background": "light"
     },
     "output_type": "display_data"
    }
   ],
   "source": [
    "plt.figure(figsize=(10,5))\n",
    "for i in range(len(frec)):\n",
    "    plt.barh(nodes_frec[i], frec[i], color=color[i])\n",
    "plt.title('10 Nodos(Segundos productos) Más frecuentes')\n",
    "plt.yticks(range(len(frec)), nodes_frec)\n",
    "plt.show()"
   ]
  },
  {
   "cell_type": "markdown",
   "metadata": {},
   "source": [
    "Mediante la función $value_counts()$ podemos obtener los nodos mas frecuentes como nodo inical."
   ]
  },
  {
   "cell_type": "code",
   "execution_count": 10,
   "metadata": {},
   "outputs": [
    {
     "data": {
      "text/plain": [
       "2047     5\n",
       "14690    5\n",
       "22894    5\n",
       "16749    5\n",
       "18796    5\n",
       "29035    5\n",
       "31082    5\n",
       "24937    5\n",
       "26984    5\n",
       "4455     5\n",
       "Name: # FromNodeId, dtype: int64"
      ]
     },
     "execution_count": 10,
     "metadata": {},
     "output_type": "execute_result"
    }
   ],
   "source": [
    "freq = data['# FromNodeId'].value_counts()\n",
    "freq[0:10]"
   ]
  },
  {
   "cell_type": "code",
   "execution_count": 11,
   "metadata": {},
   "outputs": [],
   "source": [
    "nodes_frec = ['2047', '14690', '22894', '16749', '18796', '29035', '31082', '24937', '26984', '4455']\n",
    "frec = [5, 5, 5, 5, 5, 5, 5, 5, 5, 5]\n",
    "color = ['indianred','darkcyan','steelblue','slategray',\n",
    "        'skyblue', 'silver', 'teal', 'salmon',\n",
    "        'royalblue', 'tan']"
   ]
  },
  {
   "cell_type": "markdown",
   "metadata": {},
   "source": [
    "Visualizamos mediante una gráfica de barras."
   ]
  },
  {
   "cell_type": "code",
   "execution_count": 12,
   "metadata": {},
   "outputs": [
    {
     "data": {
      "image/png": "[encoded data removed]",
      "text/plain": [
       "<Figure size 720x360 with 1 Axes>"
      ]
     },
     "metadata": {
      "needs_background": "light"
     },
     "output_type": "display_data"
    }
   ],
   "source": [
    "plt.figure(figsize=(10,5))\n",
    "for i in range(len(frec)):\n",
    "    plt.barh(nodes_frec[i], frec[i], color=color[i])\n",
    "plt.title('10 Nodos(Primeros productos) Más frecuentes')\n",
    "plt.yticks(range(len(frec)), nodes_frec)\n",
    "plt.show()"
   ]
  },
  {
   "cell_type": "markdown",
   "metadata": {},
   "source": [
    "Mediante la función $set()$ obtenemos nuestros nodos, en este caso nos basamos en $ToNodeId$, ya que hay nodos que no dirigen a otros, por lo que dentro de $\\#FromNode$ no aparecen."
   ]
  },
  {
   "cell_type": "code",
   "execution_count": 13,
   "metadata": {},
   "outputs": [],
   "source": [
    "nodos = len(set(data['ToNodeId']))"
   ]
  },
  {
   "cell_type": "markdown",
   "metadata": {},
   "source": [
    "Con ayuda de $Networkx$ podemos crear nuestro grafo, esto nos facilitará poder obtener la cantidad de aristas de cada uno y así poder obtener nuestra matriz, a continuación creamos las tuplas de las aristas para crear el grafo con la función $add\\_edges\\_from()$"
   ]
  },
  {
   "cell_type": "code",
   "execution_count": 14,
   "metadata": {},
   "outputs": [],
   "source": [
    "conjunto = data[['# FromNodeId', 'ToNodeId']]\n",
    "tuplas = [tuple(x) for x in conjunto.values]"
   ]
  },
  {
   "cell_type": "code",
   "execution_count": 15,
   "metadata": {},
   "outputs": [],
   "source": [
    "G = nx.DiGraph()\n",
    "G.add_edges_from(tuplas)"
   ]
  },
  {
   "cell_type": "markdown",
   "metadata": {},
   "source": [
    "Mediante $draw()$ podemos dibujar nuestro grafo (No lo intente, tarda mucho)."
   ]
  },
  {
   "cell_type": "code",
   "execution_count": 16,
   "metadata": {},
   "outputs": [],
   "source": [
    "#nx.draw(G, with_labels=True)\n",
    "#plt.plot()"
   ]
  },
  {
   "cell_type": "markdown",
   "metadata": {},
   "source": [
    "Mediante la función $neighbors$, podemos obtener los nodos a los cuales apunta nuestro nodo inicial, de esta manera sabemos a cuantos nodos apunta, dado que esta función devuelve una lista, obtenemos la cantidad mediante $len()$"
   ]
  },
  {
   "cell_type": "code",
   "execution_count": 17,
   "metadata": {},
   "outputs": [],
   "source": [
    "longitudes_vecinos = []\n",
    "for i in list(set(data['ToNodeId'])):\n",
    "    longitudes_vecinos.append(len([n for n in G.neighbors(i)]))"
   ]
  },
  {
   "cell_type": "code",
   "execution_count": 18,
   "metadata": {},
   "outputs": [
    {
     "data": {
      "text/plain": [
       "262111"
      ]
     },
     "execution_count": 18,
     "metadata": {},
     "output_type": "execute_result"
    }
   ],
   "source": [
    "len(longitudes_vecinos)"
   ]
  },
  {
   "cell_type": "markdown",
   "metadata": {},
   "source": [
    "### Matriz"
   ]
  },
  {
   "cell_type": "markdown",
   "metadata": {},
   "source": [
    "Creamos una matriz de dimensión $n\\times n$ donde $n=Numero\\_nodos$"
   ]
  },
  {
   "cell_type": "code",
   "execution_count": 19,
   "metadata": {},
   "outputs": [],
   "source": [
    "nodos = list(set(data['ToNodeId']))\n",
    "longitud = len(nodos)"
   ]
  },
  {
   "cell_type": "markdown",
   "metadata": {},
   "source": [
    "Me he apoyado de la función $sparse()$ y $tolil$, pues al utilziar $Numpy$, por ser una matriz de dimensiónes tan grandes, era imposible."
   ]
  },
  {
   "cell_type": "code",
   "execution_count": 20,
   "metadata": {},
   "outputs": [],
   "source": [
    "Matriz = sparse.bsr_matrix((longitud,longitud))\n",
    "Matriz_lil = Matriz.tolil()"
   ]
  },
  {
   "cell_type": "markdown",
   "metadata": {},
   "source": [
    "Obtenemos los valores de la matriz, dado que los nodos son valores enteros, podemos ver estos como una posición, por lo que inicialmente obtenemos los vecinos de cada uno de estos nodos, posterior a ello, almacenamos en nuestra matriz de acuerdo a las posiciones anteriormente mencionadas el valor $1/cantidad\\_vecinos$, siempre y cuando dicha cantidad sea mayor a $0$, pues en caso conmtrario únicamente se almacenará un $0$"
   ]
  },
  {
   "cell_type": "code",
   "execution_count": 21,
   "metadata": {},
   "outputs": [],
   "source": [
    "for nodo in set(data['ToNodeId']):\n",
    "    vecinos_nodos = list(G.neighbors(nodo))\n",
    "    if len(vecinos_nodos) == 0:  \n",
    "        for nodo_incial in list(G.neighbors(nodo)):\n",
    "            Matriz_lil[nodo_incial,nodo] = 0\n",
    "    else:\n",
    "        for nodo_incial in list(G.neighbors(nodo)):\n",
    "            Matriz_lil[nodo_incial,nodo] = 1/len(vecinos_nodos)"
   ]
  },
  {
   "cell_type": "code",
   "execution_count": 22,
   "metadata": {},
   "outputs": [
    {
     "data": {
      "text/plain": [
       "262111"
      ]
     },
     "execution_count": 22,
     "metadata": {},
     "output_type": "execute_result"
    }
   ],
   "source": [
    "Matriz_lil.shape[0]"
   ]
  },
  {
   "cell_type": "markdown",
   "metadata": {},
   "source": [
    "### PageRank\n",
    "Basandome en el algoritmo visto en clase, de la siguiente manera podemos calcular utilizando el $Page Rank$ con callejones sin salida, pues como recordamos, tenemos nodos que no apuntan a otros nodos, por lo que no tenemos salida.\n",
    "\n",
    "Utilicé una $\\beta = 0.8$ "
   ]
  },
  {
   "cell_type": "markdown",
   "metadata": {},
   "source": [
    "Calculamos nuestra primer iteración, almacenandola en una lista mediante $np.ones()$"
   ]
  },
  {
   "cell_type": "code",
   "execution_count": 23,
   "metadata": {},
   "outputs": [],
   "source": [
    "nodes = Matriz_lil.shape[0]\n",
    "iteraciones = np.ones(nodes) / nodes"
   ]
  },
  {
   "cell_type": "markdown",
   "metadata": {},
   "source": [
    "Creamos un ciclo de acuerdo a la cantidad de iteraciones necesarias, realizando las operaciónes entre la Matriz dispersa y nuestra $\\beta$ asignada para ir calculando la cantidad de iteraciones necesarias."
   ]
  },
  {
   "cell_type": "code",
   "execution_count": 24,
   "metadata": {},
   "outputs": [
    {
     "name": "stdout",
     "output_type": "stream",
     "text": [
      "Iteración  0 :\n",
      "[3.81517754e-06 3.81517754e-06 3.81517754e-06 ... 3.81517754e-06\n",
      " 3.81517754e-06 3.81517754e-06] \n",
      "\n",
      "Iteración  1 :\n",
      "[2.03676983e-06 1.42634142e-06 2.03676983e-06 ... 1.42634142e-06\n",
      " 1.42634142e-06 1.42634142e-06] \n",
      "\n",
      "Iteración  2 :\n",
      "[1.35704561e-06 1.12883098e-06 1.35704561e-06 ... 1.81251079e-06\n",
      " 1.03116243e-06 1.22649952e-06] \n",
      "\n",
      "Iteración  3 :\n",
      "[1.19825989e-06 1.01764693e-06 1.19825989e-06 ... 1.78893723e-06\n",
      " 1.09052136e-06 1.17917701e-06] \n",
      "\n",
      "Iteración  4 :\n",
      "[1.15438306e-06 9.91559552e-07 1.15438306e-06 ... 1.81919623e-06\n",
      " 1.08606793e-06 1.18221046e-06] \n",
      "\n",
      "Iteración  5 :\n",
      "[1.14285596e-06 9.84206434e-07 1.14285596e-06 ... 1.83450982e-06\n",
      " 1.09057654e-06 1.18705920e-06] \n",
      "\n",
      "Iteración  6 :\n",
      "[1.13969641e-06 9.82223384e-07 1.13969641e-06 ... 1.84497224e-06\n",
      " 1.09288800e-06 1.19067612e-06] \n",
      "\n",
      "Iteración  7 :\n",
      "[1.13877907e-06 9.81623333e-07 1.13877907e-06 ... 1.85129823e-06\n",
      " 1.09446747e-06 1.19307633e-06] \n",
      "\n",
      "Iteración  8 :\n",
      "[1.13847058e-06 9.81410851e-07 1.13847058e-06 ... 1.85559568e-06\n",
      " 1.09541392e-06 1.19458896e-06] \n",
      "\n",
      "Iteración  9 :\n",
      "[1.13833204e-06 9.81306306e-07 1.13833204e-06 ... 1.85850697e-06\n",
      " 1.09604632e-06 1.19556321e-06] \n",
      "\n",
      "Iteración  10 :\n",
      "[1.13824768e-06 9.81238667e-07 1.13824768e-06 ... 1.86058177e-06\n",
      " 1.09646666e-06 1.19621665e-06] \n",
      "\n",
      "Iteración  11 :\n",
      "[1.13818466e-06 9.81186469e-07 1.13818466e-06 ... 1.86209040e-06\n",
      " 1.09675992e-06 1.19666665e-06] \n",
      "\n",
      "Iteración  12 :\n",
      "[1.13813422e-06 9.81144386e-07 1.13813422e-06 ... 1.86321380e-06\n",
      " 1.09696931e-06 1.19698756e-06] \n",
      "\n",
      "Iteración  13 :\n",
      "[1.13809285e-06 9.81109744e-07 1.13809285e-06 ... 1.86406226e-06\n",
      " 1.09712248e-06 1.19722149e-06] \n",
      "\n",
      "Iteración  14 :\n",
      "[1.13805914e-06 9.81081578e-07 1.13805914e-06 ... 1.86471068e-06\n",
      " 1.09723668e-06 1.19739572e-06] \n",
      "\n"
     ]
    }
   ],
   "source": [
    "for i in range(15):\n",
    "    print('Iteración ',i,':')\n",
    "    print(iteraciones,'\\n')\n",
    "    r_temp = 0.8 * Matriz_lil @ iteraciones\n",
    "    iteraciones = r_temp + ((1 - r_temp.sum()) / nodes)"
   ]
  },
  {
   "cell_type": "code",
   "execution_count": 25,
   "metadata": {},
   "outputs": [
    {
     "name": "stdout",
     "output_type": "stream",
     "text": [
      "[1.13803174e-06 9.81058687e-07 1.13803174e-06 ... 1.86520995e-06\n",
      " 1.09732293e-06 1.19752721e-06]\n"
     ]
    }
   ],
   "source": [
    "print(iteraciones)"
   ]
  },
  {
   "cell_type": "code",
   "execution_count": 26,
   "metadata": {},
   "outputs": [
    {
     "data": {
      "text/plain": [
       "0.9999999999999895"
      ]
     },
     "execution_count": 26,
     "metadata": {},
     "output_type": "execute_result"
    }
   ],
   "source": [
    "sum(iteraciones)"
   ]
  },
  {
   "cell_type": "markdown",
   "metadata": {},
   "source": [
    "He decidido dejar 15 iteraciones, pues converge muy rápido"
   ]
  }
 ],
 "metadata": {
  "kernelspec": {
   "display_name": "Python 3",
   "language": "python",
   "name": "python3"
  },
  "language_info": {
   "codemirror_mode": {
    "name": "ipython",
    "version": 3
   },
   "file_extension": ".py",
   "mimetype": "text/x-python",
   "name": "python",
   "nbconvert_exporter": "python",
   "pygments_lexer": "ipython3",
   "version": "3.7.3"
  }
 },
 "nbformat": 4,
 "nbformat_minor": 2
}
